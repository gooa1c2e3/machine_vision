{
 "cells": [
  {
   "cell_type": "code",
   "execution_count": 1,
   "metadata": {
    "collapsed": false
   },
   "outputs": [],
   "source": [
    "import cv2\n",
    "import numpy as np\n",
    "from matplotlib import pyplot as plt\n",
    "%matplotlib inline"
   ]
  },
  {
   "cell_type": "code",
   "execution_count": 2,
   "metadata": {
    "collapsed": true
   },
   "outputs": [],
   "source": [
    "from sys import getsizeof\n",
    "\n",
    "\n",
    "def sizeof(obj):\n",
    "    \"\"\"Calculate bytes unit\"\"\"\n",
    "    size_in_memory = getsizeof(obj)\n",
    "    \n",
    "    if size_in_memory < 1024.0:\n",
    "        return str(size_in_memory) + ' byte'\n",
    "    elif size_in_memory > 1048576.0:\n",
    "        return str(round((size_in_memory/1048576.0), 3)) + ' MB'\n",
    "    else:\n",
    "        return str(round((size_in_memory/1024.0), 3)) + ' KB'\n",
    "    "
   ]
  },
  {
   "cell_type": "code",
   "execution_count": 21,
   "metadata": {
    "collapsed": false
   },
   "outputs": [],
   "source": [
    "pixels_per_mm = 1\n",
    "hight = 786*pixels_per_mm\n",
    "width = 1091*pixels_per_mm\n",
    "\n",
    "chessboard = np.zeros((hight, width), dtype=np.int16)\n",
    "x_count = 0\n",
    "y_count = 0\n",
    "for x in xrange(0, width):\n",
    "    if x%25 == 0:\n",
    "            x_count += 1\n",
    "    for y in xrange(0, hight):\n",
    "        if y%25 == 0:\n",
    "            y_count += 1\n",
    "        try:\n",
    "            if (x_count%2 == 0) and (y_count%2 ==1):\n",
    "                chessboard[y, x] = 0\n",
    "            elif (x_count%2 == 1) and (y_count%2 ==0):\n",
    "                chessboard[y, x] = 0\n",
    "            else:\n",
    "                chessboard[y, x] = 255\n",
    "        except Exception as e:\n",
    "            print(e)"
   ]
  },
  {
   "cell_type": "code",
   "execution_count": 22,
   "metadata": {
    "collapsed": false
   },
   "outputs": [
    {
     "name": "stdout",
     "output_type": "stream",
     "text": [
      "hight, width (786L, 1091L)\n",
      "size 1.636 MB\n"
     ]
    }
   ],
   "source": [
    "print \"hight, width\", chessboard.shape\n",
    "print \"size\", sizeof(chessboard)"
   ]
  },
  {
   "cell_type": "code",
   "execution_count": 23,
   "metadata": {
    "collapsed": false
   },
   "outputs": [
    {
     "data": {
      "image/png": "[encoded data removed]",
      "text/plain": [
       "<matplotlib.figure.Figure at 0x8b771d0>"
      ]
     },
     "metadata": {},
     "output_type": "display_data"
    }
   ],
   "source": [
    "plt.imshow(chessboard, \"gray\")\n",
    "plt.show()"
   ]
  },
  {
   "cell_type": "code",
   "execution_count": 24,
   "metadata": {
    "collapsed": false
   },
   "outputs": [
    {
     "data": {
      "text/plain": [
       "True"
      ]
     },
     "execution_count": 24,
     "metadata": {},
     "output_type": "execute_result"
    }
   ],
   "source": [
    "cv2.imwrite(\"chessboard.jpg\", chessboard)"
   ]
  },
  {
   "cell_type": "code",
   "execution_count": 104,
   "metadata": {
    "collapsed": false
   },
   "outputs": [
    {
     "data": {
      "text/plain": [
       "255"
      ]
     },
     "execution_count": 104,
     "metadata": {},
     "output_type": "execute_result"
    }
   ],
   "source": []
  },
  {
   "cell_type": "code",
   "execution_count": null,
   "metadata": {
    "collapsed": true
   },
   "outputs": [],
   "source": []
  }
 ],
 "metadata": {
  "kernelspec": {
   "display_name": "Python 2",
   "language": "python",
   "name": "python2"
  },
  "language_info": {
   "codemirror_mode": {
    "name": "ipython",
    "version": 2
   },
   "file_extension": ".py",
   "mimetype": "text/x-python",
   "name": "python",
   "nbconvert_exporter": "python",
   "pygments_lexer": "ipython2",
   "version": "2.7.11"
  }
 },
 "nbformat": 4,
 "nbformat_minor": 0
}
