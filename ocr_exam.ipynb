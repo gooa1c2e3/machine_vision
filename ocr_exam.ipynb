{
 "cells": [
  {
   "cell_type": "code",
   "execution_count": 1,
   "metadata": {
    "collapsed": false
   },
   "outputs": [],
   "source": [
    "import cv2\n",
    "import time"
   ]
  },
  {
   "cell_type": "code",
   "execution_count": 34,
   "metadata": {
    "collapsed": false
   },
   "outputs": [
    {
     "name": "stdout",
     "output_type": "stream",
     "text": [
      "True\n",
      "True\n",
      "640.0\n",
      "480.0\n"
     ]
    }
   ],
   "source": [
    "# cap = cv2.VideoCapture('1_20170406_132210.mp4')\n",
    "cap = cv2.VideoCapture(1)\n",
    "print cap.set(3, 1280.)\n",
    "print cap.set(4, 720.)\n",
    "print cap.get(3)\n",
    "print cap.get(4)\n",
    "time.sleep(1)\n",
    "# cap.set(cv2.cv.CV_CAP_DSHOW, 700)\n",
    "cap.set(cv2.cv.CV_CAP_PROP_FPS, 60)\n",
    "count = 0\n",
    "for _ in range(2000):\n",
    "    ret, frame = cap.read()\n",
    "    if ret:\n",
    "#         print frame.shape\n",
    "        cv2.imshow('dd', frame)\n",
    "        key = cv2.waitKey(2)\n",
    "        if key == ord('c'):\n",
    "            break\n",
    "    else:\n",
    "        count += 1\n",
    "        print 'fail'\n",
    "    if count >= 10:\n",
    "        break\n",
    "cv2.destroyAllWindows()\n",
    "cap.release()"
   ]
  },
  {
   "cell_type": "code",
   "execution_count": 17,
   "metadata": {
    "collapsed": true
   },
   "outputs": [],
   "source": [
    "cap.release()\n",
    "cv2.destroyAllWindows()"
   ]
  },
  {
   "cell_type": "code",
   "execution_count": 27,
   "metadata": {
    "collapsed": false
   },
   "outputs": [
    {
     "data": {
      "text/plain": [
       "['__class__',\n",
       " '__delattr__',\n",
       " '__doc__',\n",
       " '__format__',\n",
       " '__getattribute__',\n",
       " '__hash__',\n",
       " '__init__',\n",
       " '__new__',\n",
       " '__reduce__',\n",
       " '__reduce_ex__',\n",
       " '__repr__',\n",
       " '__setattr__',\n",
       " '__sizeof__',\n",
       " '__str__',\n",
       " '__subclasshook__',\n",
       " 'get',\n",
       " 'grab',\n",
       " 'isOpened',\n",
       " 'open',\n",
       " 'read',\n",
       " 'release',\n",
       " 'retrieve',\n",
       " 'set']"
      ]
     },
     "execution_count": 27,
     "metadata": {},
     "output_type": "execute_result"
    }
   ],
   "source": [
    "dir(cap)"
   ]
  },
  {
   "cell_type": "code",
   "execution_count": 22,
   "metadata": {
    "collapsed": false
   },
   "outputs": [
    {
     "ename": "ImportError",
     "evalue": "No module named uuids",
     "output_type": "error",
     "traceback": [
      "\u001b[1;31m---------------------------------------------------------------------------\u001b[0m",
      "\u001b[1;31mImportError\u001b[0m                               Traceback (most recent call last)",
      "\u001b[1;32m<ipython-input-22-4cd15e266542>\u001b[0m in \u001b[0;36m<module>\u001b[1;34m()\u001b[0m\n\u001b[0;32m      4\u001b[0m \u001b[1;32mfrom\u001b[0m \u001b[0mcomtypes\u001b[0m \u001b[1;32mimport\u001b[0m \u001b[0mclient\u001b[0m\u001b[1;33m,\u001b[0m \u001b[0mGUID\u001b[0m\u001b[1;33m\u001b[0m\u001b[0m\n\u001b[0;32m      5\u001b[0m \u001b[1;32mimport\u001b[0m \u001b[0minterfaces\u001b[0m \u001b[1;32mas\u001b[0m \u001b[0mdsifs\u001b[0m\u001b[1;33m\u001b[0m\u001b[0m\n\u001b[1;32m----> 6\u001b[1;33m \u001b[1;32mfrom\u001b[0m \u001b[0muuids\u001b[0m \u001b[1;32mimport\u001b[0m \u001b[0mids\u001b[0m\u001b[1;33m,\u001b[0m \u001b[0mrids\u001b[0m\u001b[1;33m\u001b[0m\u001b[0m\n\u001b[0m\u001b[0;32m      7\u001b[0m \u001b[1;33m\u001b[0m\u001b[0m\n\u001b[0;32m      8\u001b[0m \u001b[0mqedit\u001b[0m \u001b[1;33m=\u001b[0m \u001b[0mclient\u001b[0m\u001b[1;33m.\u001b[0m\u001b[0mGetModule\u001b[0m\u001b[1;33m(\u001b[0m\u001b[1;34m\"qedit.dll\"\u001b[0m\u001b[1;33m)\u001b[0m\u001b[1;33m\u001b[0m\u001b[0m\n",
      "\u001b[1;31mImportError\u001b[0m: No module named uuids"
     ]
    }
   ],
   "source": [
    "#!/usr/bin/env python\n",
    "# -*- encoding: utf-8 -*-\n",
    "\n",
    "from comtypes import client, GUID\n",
    "import interfaces as dsifs\n",
    "from uuids import ids, rids\n",
    "\n",
    "qedit = client.GetModule(\"qedit.dll\")\n",
    "quartz = client.GetModule(\"quartz.dll\")\n",
    "MFVideoARMode_PreservePicture = 0x1\n",
    "\n",
    "# Helper functions.\n",
    "def get_name(byte_array):\n",
    "    name = \"\".join(map(chr, byte_array))\n",
    "    try:\n",
    "        name = name[:name.index('\\x00')]\n",
    "    except ValueError:\n",
    "        pass\n",
    "    return name\n",
    "\n",
    "def get_pin(afilter, pin_name):\n",
    "    pin_enum = afilter.EnumPins()\n",
    "    while True:\n",
    "        cur_pin, fetched = pin_enum.Next(1)\n",
    "        if fetched:\n",
    "            pin_info = cur_pin.QueryPinInfo()\n",
    "            cur_pin_name = get_name(pin_info.achName)\n",
    "            if pin_name in cur_pin_name:\n",
    "                return cur_pin\n",
    "        else:\n",
    "            cur_pin.Release()\n",
    "            break\n",
    "    print(\"Pin '%s' not found!\" % pin_name)\n",
    "    return None\n",
    "\n",
    "def build_graph():\n",
    "    graph = client.CreateObject(ids.CLSID_FilterGraph,\n",
    "    interface=qedit.IFilterGraph)\n",
    "    # Provided with a graph, create a builder\n",
    "    builder = graph.QueryInterface(qedit.IGraphBuilder)\n",
    "    capture = client.CreateObject(ids.CLSID_CaptureGraphBuilder2,\n",
    "        interface=dsifs.ICaptureGraphBuilder2)\n",
    "\n",
    "    # Filter chain xbar -> tuner -> a/v decoders -> a/v renderers.\n",
    "\n",
    "    ##\n",
    "    # Crossbar\n",
    "    # Fetch the first one and set it up to Composite input.\n",
    "    dev_enum_xbar = client.CreateObject(ids.CLSID_SystemDeviceEnum,\n",
    "        interface=dsifs.ICreateDevEnum)\n",
    "    xbar_enum = dev_enum_xbar.CreateClassEnumerator(\n",
    "        GUID(ids.CLSID_VideoCrossbarCategory),\n",
    "        dwFlags = 0)\n",
    "    xbar_enum.Reset()\n",
    "    xbar_moniker, success = xbar_enum.RemoteNext(1)\n",
    "    if not success:\n",
    "        raise IndexError(\"Couldn't find crossbar device.\")\n",
    "    xbar_bind = xbar_moniker.RemoteBindToObject(None, None,\n",
    "        dsifs.IBaseFilter._iid_)\n",
    "    xbar_filter = xbar_bind.QueryInterface(dsifs.IBaseFilter)\n",
    "\n",
    "    # Setup\n",
    "    xbar = xbar_filter.QueryInterface(dsifs.IAMCrossbar)\n",
    "    outputs_count, inputs_count = xbar.get_PinCounts()\n",
    "    for i in range(0, inputs_count):\n",
    "        related_pin_idx, pin_type = xbar.get_CrossbarPinInfo(True, i)\n",
    "        if pin_type == dsifs.PhysConn_Video_Composite:\n",
    "            input_pin_index = i\n",
    "            related_input_pin_idx = related_pin_idx\n",
    "            break\n",
    "    for i in range(0, outputs_count):\n",
    "        related_pin_idx, pin_type = xbar.get_CrossbarPinInfo(False, i)\n",
    "        if pin_type == dsifs.PhysConn_Video_VideoDecoder:\n",
    "            output_pin_index = i\n",
    "            related_output_pin_idx = related_pin_idx\n",
    "            break\n",
    "    # Route video pins\n",
    "    if xbar.CanRoute(output_pin_index, input_pin_index) == 0:\n",
    "        if xbar.Route(output_pin_index, input_pin_index) == 0:\n",
    "            routed_to = xbar.get_IsRoutedTo(output_pin_index)\n",
    "            if routed_to != input_pin_index:\n",
    "                raise Exception(\"Couldn't route crossbar pins!.\")\n",
    "    # Route related (audio) pins\n",
    "    if xbar.CanRoute(related_output_pin_idx, related_input_pin_idx) == 0:\n",
    "        if xbar.Route(related_output_pin_idx, related_input_pin_idx) == 0:\n",
    "            routed_to = xbar.get_IsRoutedTo(related_output_pin_idx)\n",
    "            if routed_to != related_input_pin_idx:\n",
    "                raise Exception(\"Couldn't route related crossbar pins!.\")\n",
    "    graph.AddFilter(xbar_filter, \"Crossbar\")\n",
    "\n",
    "    ##\n",
    "    # Capture (TV Tuner) device\n",
    "    # Fetch the first one and set it up to NTSC.\n",
    "\n",
    "    dev_enum_cap = client.CreateObject(ids.CLSID_SystemDeviceEnum,\n",
    "        interface=dsifs.ICreateDevEnum)\n",
    "    cap_enum = dev_enum_cap.CreateClassEnumerator(\n",
    "        GUID(ids.CLSID_VideoInputDeviceCategory),\n",
    "        dwFlags = 0)\n",
    "    cap_enum.Reset()\n",
    "    cap_moniker, success = cap_enum.RemoteNext(1)\n",
    "    if not success:\n",
    "        raise IndexError(\"Couldn't find capture device!.\")\n",
    "    cap_bind = cap_moniker.RemoteBindToObject(None, None,\n",
    "        dsifs.IBaseFilter._iid_)\n",
    "    cap_filter = cap_bind.QueryInterface(interface=dsifs.IBaseFilter)\n",
    "    cap = cap_filter.QueryInterface(interface=dsifs.IAMAnalogVideoDecoder)\n",
    "    cap.put_TVFormat(dsifs.AnalogVideo_NTSC_M)\n",
    "    graph.AddFilter(cap_filter, \"Video Capture\")\n",
    "\n",
    "    ##\n",
    "    # Connect crossbar to capture.\n",
    "    graph.ConnectDirect(get_pin(xbar_filter, \"0: Video Decoder Out\"),\n",
    "        get_pin(cap_filter, \"Analog Video In\"), None)\n",
    "    graph.ConnectDirect(get_pin(xbar_filter, \"1: Audio Decoder Out\"),\n",
    "        get_pin(cap_filter, \"Analog Audio In\"), None)\n",
    "\n",
    "    ##\n",
    "    # ffdshow filters\n",
    "    # video\n",
    "    ffds_vidraw = client.CreateObject(ids.CLSID_FFDshowRawVideoFilter,\n",
    "        interface=dsifs.IBaseFilter)\n",
    "    graph.AddFilter(ffds_vidraw, \"ffdshow raw video filter\")\n",
    "    # audio\n",
    "    ffds_auddec = client.CreateObject(ids.CLSID_FFDshowAudioDecoder,\n",
    "        interface=dsifs.IBaseFilter)\n",
    "    graph.AddFilter(ffds_auddec, \"ffdshow Audio Decoder\")\n",
    "\n",
    "    # link to capture filters.\n",
    "    graph.ConnectDirect(get_pin(cap_filter, \"Capture\"),\n",
    "        get_pin(ffds_vidraw, \"In\"), None)\n",
    "    graph.ConnectDirect(get_pin(cap_filter, \"Audio Out\"),\n",
    "        get_pin(ffds_auddec, \"In\"), None)\n",
    "\n",
    "    ##\n",
    "    # Renderers.\n",
    "    # audio\n",
    "    dsound_renderer = client.CreateObject(ids.CLSID_DSoundRender,\n",
    "        interface=dsifs.IBaseFilter)\n",
    "    graph.AddFilter(dsound_renderer, \"Default DirectSound Device\")\n",
    "    # video\n",
    "    enhanced_video = client.CreateObject(ids.CLSID_EnhancedVideoRenderer,\n",
    "        interface=dsifs.IBaseFilter)\n",
    "    graph.AddFilter(enhanced_video, \"Enhanced Video Renderer\")\n",
    "\n",
    "    # link to ffdshow filters.\n",
    "    graph.ConnectDirect(get_pin(ffds_vidraw, \"Out\"),\n",
    "        get_pin(enhanced_video, \"EVR Input0\"), None)\n",
    "    graph.ConnectDirect(get_pin(ffds_auddec, \"Out\"),\n",
    "        get_pin(dsound_renderer, \"Audio Input pin (rendered)\"), None)\n",
    "\n",
    "    # All done, return the EVR Video Display Control and Graph Media Control\n",
    "    evr_service = enhanced_video.QueryInterface(dsifs.IMFGetService)\n",
    "    vdc_service = evr_service.GetService(GUID(ids.MR_VIDEO_RENDER_SERVICE),\n",
    "        dsifs.IMFVideoDisplayControl._iid_)\n",
    "    evr_videocontrol = vdc_service.QueryInterface(dsifs.IMFVideoDisplayControl)\n",
    "    media_control = graph.QueryInterface(quartz.IMediaControl)\n",
    "    return (media_control, evr_videocontrol)\n",
    "\n",
    "if __name__ == \"__main__\":\n",
    "    gr = client.CreateObject(ids.CLSID_FilterGraph,\n",
    "        interface=qedit.IFilterGraph)\n",
    "    print(build_graph(gr))"
   ]
  },
  {
   "cell_type": "code",
   "execution_count": null,
   "metadata": {
    "collapsed": true
   },
   "outputs": [],
   "source": []
  },
  {
   "cell_type": "code",
   "execution_count": null,
   "metadata": {
    "collapsed": true
   },
   "outputs": [],
   "source": []
  },
  {
   "cell_type": "code",
   "execution_count": null,
   "metadata": {
    "collapsed": true
   },
   "outputs": [],
   "source": []
  },
  {
   "cell_type": "code",
   "execution_count": null,
   "metadata": {
    "collapsed": true
   },
   "outputs": [],
   "source": []
  },
  {
   "cell_type": "code",
   "execution_count": 2,
   "metadata": {
    "collapsed": true
   },
   "outputs": [],
   "source": [
    "import chptocr"
   ]
  },
  {
   "cell_type": "code",
   "execution_count": 3,
   "metadata": {
    "collapsed": false
   },
   "outputs": [
    {
     "data": {
      "text/plain": [
       "[]"
      ]
     },
     "execution_count": 3,
     "metadata": {},
     "output_type": "execute_result"
    }
   ],
   "source": [
    "chptocr.coordinates(im[80:100, 30:77])"
   ]
  },
  {
   "cell_type": "markdown",
   "metadata": {},
   "source": [
    "# PyOCR"
   ]
  },
  {
   "cell_type": "code",
   "execution_count": 3,
   "metadata": {
    "collapsed": false
   },
   "outputs": [
    {
     "name": "stdout",
     "output_type": "stream",
     "text": [
      "Will use tool 'Tesseract (sh)'\n",
      "Available languages: eng, osd, wid\n",
      "Will use lang 'eng'\n"
     ]
    }
   ],
   "source": [
    "from PIL import Image\n",
    "import sys\n",
    "\n",
    "import pyocr\n",
    "import pyocr.builders\n",
    "\n",
    "tools = pyocr.get_available_tools()\n",
    "if len(tools) == 0:\n",
    "    print(\"No OCR tool found\")\n",
    "    sys.exit(1)\n",
    "# The tools are returned in the recommended order of usage\n",
    "tool = tools[0]\n",
    "print(\"Will use tool '%s'\" % (tool.get_name()))\n",
    "# Ex: Will use tool 'libtesseract'\n",
    "\n",
    "langs = tool.get_available_languages()\n",
    "print(\"Available languages: %s\" % \", \".join(langs))\n",
    "lang = langs[0]\n",
    "print(\"Will use lang '%s'\" % (lang))\n",
    "# Ex: Will use lang 'fra'\n",
    "# Note that languages are NOT sorted in any way. Please refer\n",
    "# to the system locale settings for the default language\n",
    "# to use."
   ]
  },
  {
   "cell_type": "code",
   "execution_count": 10,
   "metadata": {
    "collapsed": true
   },
   "outputs": [],
   "source": [
    "img = Image.open('2.BMP')"
   ]
  },
  {
   "cell_type": "code",
   "execution_count": null,
   "metadata": {
    "collapsed": false
   },
   "outputs": [],
   "source": [
    "import cv2\n",
    "import numpy as np\n",
    "img = cv2.imread('1.BMP')\n",
    "\n",
    "img_r = np.array([\n",
    "    [\n",
    "        255 if pixel[2]*(pixel[2]>3*pixel[0])*(pixel[2]>3*pixel[1]) > 80 else 0\n",
    "        for pixel in row\n",
    "    ]\n",
    "    for row in img\n",
    "], dtype='uint8')\n",
    "\n",
    "cv2.imshow('dd', img_r)\n",
    "cv2.waitKey(0)\n",
    "cv2.destroyAllWindows()\n",
    "\n",
    "# print img"
   ]
  },
  {
   "cell_type": "code",
   "execution_count": 4,
   "metadata": {
    "collapsed": false
   },
   "outputs": [
    {
     "name": "stdout",
     "output_type": "stream",
     "text": [
      "A - 31.762 um\n"
     ]
    }
   ],
   "source": [
    "\n",
    "image = Image.fromarray(img_r)\n",
    "txt = tool.image_to_string(\n",
    "    image,\n",
    "    lang='eng',#'wid',\n",
    "    builder=pyocr.builders.TextBuilder()\n",
    ")\n",
    "# txt is a Python string\n",
    "print txt"
   ]
  },
  {
   "cell_type": "code",
   "execution_count": null,
   "metadata": {
    "collapsed": true
   },
   "outputs": [],
   "source": []
  },
  {
   "cell_type": "code",
   "execution_count": 19,
   "metadata": {
    "collapsed": false
   },
   "outputs": [
    {
     "name": "stdout",
     "output_type": "stream",
     "text": [
      "\n"
     ]
    }
   ],
   "source": [
    "\n",
    "txt = tool.image_to_string(\n",
    "    Image.open('2.BMP'),\n",
    "    lang='eng',#'wid',\n",
    "    builder=pyocr.builders.TextBuilder()\n",
    ")\n",
    "# txt is a Python string\n",
    "print txt"
   ]
  },
  {
   "cell_type": "code",
   "execution_count": 21,
   "metadata": {
    "collapsed": false
   },
   "outputs": [
    {
     "name": "stdout",
     "output_type": "stream",
     "text": [
      "cm: ((274, 7), (302, 17))\n",
      "550 ((308, 7), (333, 17))\n",
      "Eﬁﬁﬁ ((339, 5), (393, 19))\n",
      "Vnfu ((660, 6), (681, 17))\n",
      "um ((749, 8), (772, 17))\n",
      "4 ((833, 8), (839, 17))\n",
      "7 ((856, 8), (861, 14))\n",
      "  ((0, 2), (8, 23))\n",
      "DN:lCAMlRD/2017020153-A1D01/2017020153-1-1-1/CHP ((8, 15), (512, 45))\n",
      "2017/2/la ((725, 33), (787, 43))\n",
      "7:: ((804, 32), (828, 44))\n",
      "02 ((833, 33), (847, 42))\n",
      "49 ((853, 33), (867, 42))\n",
      "44 ((873, 33), (887, 42))\n",
      "Ségtﬁs ((933, 33), (981, 62))\n",
      "A ((81, 62), (93, 65))\n",
      "7 ((958, 50), (962, 61))\n",
      "E ((69, 63), (77, 75))\n",
      "WW ((82, 62), (121, 76))\n",
      "iﬁﬁreﬁ ((252, 71), (306, 85))\n",
      "ME ((441, 70), (469, 84))\n",
      "mm: ((603, 70), (657, 84))\n",
      "mfﬁﬁ ((778, 69), (832, 83))\n",
      ",, ((984, 81), (996, 88))\n",
      "T ((14, 86), (21, 95))\n",
      "1 ((65, 86), (71, 96))\n",
      "M ((94, 86), (102, 95))\n",
      "253 ((158, 86), (180, 96))\n",
      "can ((434, 90), (458, 99))\n",
      "ON ((466, 90), (482, 99))\n",
      "Typ ((3, 103), (23, 115))\n",
      "vn ((53, 102), (71, 112))\n",
      "EL ((94, 103), (107, 112))\n",
      "mason ((142, 102), (180, 112))\n",
      "9 ((212, 106), (218, 114))\n",
      "as ((224, 106), (236, 114))\n",
      "3; ((241, 106), (254, 114))\n",
      "mm ((307, 106), (350, 114))\n",
      "a’ ((451, 101), (465, 116))\n",
      "M ((620, 106), (640, 116))\n",
      "-3 ((731, 95), (880, 113))\n",
      "D ((15, 120), (22, 129))\n",
      "3 ((38, 120), (44, 130))\n",
      "I50 ((50, 120), (72, 130))\n",
      "SR ((94, 120), (109, 129))\n",
      "0 ((173, 120), (180, 130))\n",
      "D ((731, 116), (736, 124))\n",
      "‘so ((796, 116), (816, 124))\n",
      "2”“ ((853, 116), (872, 124))\n",
      "5 ((15, 137), (21, 146))\n",
      "° ((65, 136), (72, 146))\n",
      "REP ((94, 137), (116, 146))\n",
      "3 ((173, 136), (180, 146))\n",
      "I ((206, 136), (208, 153))\n",
      "\\ ((354, 136), (355, 153))\n",
      "\\ ((381, 136), (382, 154))\n",
      "\\ ((529, 136), (530, 154))\n",
      "\\ ((556, 136), (557, 154))\n",
      "\\ ((704, 136), (705, 154))\n",
      "\\ ((731, 136), (732, 152))\n",
      "1 ((879, 139), (880, 152))\n",
      "F ((15, 154), (20, 163))\n",
      "0 ((45, 154), (52, 164))\n",
      "Ms ((57, 154), (72, 164))\n",
      "Hus ((94, 154), (116, 163))\n",
      "14244 ((146, 154), (180, 162))\n",
      "n ((206, 157), (211, 165))\n",
      "m ((264, 156), (284, 166))\n",
      "as ((288, 157), (297, 166))\n",
      "mm ((336, 157), (355, 165))\n",
      "a ((381, 158), (386, 166))\n",
      "mum: ((427, 156), (485, 168))\n",
      "man ((506, 158), (532, 166))\n",
      "u ((556, 158), (561, 166))\n",
      "xlnnn ((600, 158), (633, 166))\n",
      "rpm ((639, 160), (660, 168))\n",
      "Sun ((686, 158), (705, 166))\n",
      "a ((731, 156), (736, 164))\n",
      "n ((798, 156), (811, 164))\n",
      "ma ((844, 156), (871, 164))\n",
      "E ((15, 171), (21, 180))\n",
      "5.30 ((45, 170), (72, 180))\n",
      "W. ((93, 170), (104, 182))\n",
      "34344 ((146, 170), (180, 180))\n",
      "  ((925, 492), (990, 549))\n",
      "mm ((13, 507), (64, 519))\n",
      "0000 ((126, 508), (160, 517))\n",
      "h ((755, 515), (760, 525))\n",
      "N ((778, 510), (794, 531))\n",
      "h ((826, 515), (831, 525))\n",
      "12mm ((12, 524), (59, 536))\n",
      "0 ((126, 525), (132, 534))\n",
      "can ((138, 525), (160, 534))\n",
      "5: ((744, 519), (754, 525))\n",
      "E ((761, 519), (784, 530))\n",
      "ﬂan ((796, 519), (825, 530))\n",
      " ((833, 519), (854, 525))\n",
      "zmﬂﬁ ((13, 542), (64, 554))\n",
      "17290 ((118, 543), (160, 552))\n",
      "‘ ((790, 536), (791, 548))\n",
      "  ((204, 242), (760, 566))\n",
      "  ((593, 693), (661, 729))\n",
      "gm; ((14, 672), (213, 747))\n",
      "F ((320, 735), (325, 742))\n",
      "F144; ((432, 689), (549, 742))\n",
      "F:-v%%£E ((655, 689), (974, 742))\n"
     ]
    }
   ],
   "source": [
    "word_boxes = tool.image_to_string(\n",
    "    Image.open('S4_SNAP.BMP'),\n",
    "    lang=\"eng\",\n",
    "    builder=pyocr.builders.WordBoxBuilder()\n",
    ")\n",
    "# list of box objects. For each box object:\n",
    "#   box.content is the word in the box\n",
    "#   box.position is its position on the page (in pixels)\n",
    "#\n",
    "# Beware that some OCR tools (Tesseract for instance)\n",
    "# may return empty boxes\n",
    "for word_box in word_boxes:\n",
    "    print word_box.content, word_box.position"
   ]
  },
  {
   "cell_type": "code",
   "execution_count": 35,
   "metadata": {
    "collapsed": false
   },
   "outputs": [
    {
     "name": "stdout",
     "output_type": "stream",
     "text": [
      "W]\n",
      "3 150\n",
      "046\n",
      "530\n"
     ]
    }
   ],
   "source": [
    "line_and_word_boxes = tool.image_to_string(\n",
    "    Image.open('SNAP2.png'), lang=\"eng\",\n",
    "    builder=pyocr.builders.LineBoxBuilder()\n",
    ")\n",
    "# list of line objects. For each line object:\n",
    "#   line.word_boxes is a list of word boxes (the individual words in the line)\n",
    "#   line.content is the whole text of the line\n",
    "#   line.position is the position of the whole line on the page (in pixels)\n",
    "#\n",
    "# Beware that some OCR tools (Tesseract for instance)\n",
    "# may return empty boxes\n",
    "\n",
    "# Digits - Only Tesseract (not 'libtesseract' yet !)\n",
    "for s in  line_and_word_boxes:\n",
    "    print s.content"
   ]
  },
  {
   "cell_type": "code",
   "execution_count": 37,
   "metadata": {
    "collapsed": false
   },
   "outputs": [
    {
     "name": "stdout",
     "output_type": "stream",
     "text": [
      "1\n",
      "3 150\n",
      "\n",
      "046\n",
      "530\n"
     ]
    }
   ],
   "source": [
    "digits = tool.image_to_string(\n",
    "    Image.open('SNAP2.png'),\n",
    "    lang=lang,\n",
    "    builder=pyocr.tesseract.DigitBuilder()\n",
    ")\n",
    "# digits is a python string\n",
    "print digits"
   ]
  },
  {
   "cell_type": "code",
   "execution_count": 1,
   "metadata": {
    "collapsed": false
   },
   "outputs": [
    {
     "name": "stdout",
     "output_type": "stream",
     "text": [
      "43200\n"
     ]
    }
   ],
   "source": [
    "print 12*3600"
   ]
  },
  {
   "cell_type": "code",
   "execution_count": 2,
   "metadata": {
    "collapsed": true
   },
   "outputs": [],
   "source": [
    "import numpy as np"
   ]
  },
  {
   "cell_type": "code",
   "execution_count": 9,
   "metadata": {
    "collapsed": false
   },
   "outputs": [
    {
     "name": "stdout",
     "output_type": "stream",
     "text": [
      "1100001\n",
      "1100010\n",
      "1100011\n",
      "1100100\n",
      "1100101\n",
      "1100110\n"
     ]
    }
   ],
   "source": [
    "string = \"abcdef\"\n",
    "for word in string:\n",
    "    print format(ord(word), 'b')"
   ]
  },
  {
   "cell_type": "code",
   "execution_count": null,
   "metadata": {
    "collapsed": true
   },
   "outputs": [],
   "source": []
  }
 ],
 "metadata": {
  "kernelspec": {
   "display_name": "Python 2",
   "language": "python",
   "name": "python2"
  },
  "language_info": {
   "codemirror_mode": {
    "name": "ipython",
    "version": 2
   },
   "file_extension": ".py",
   "mimetype": "text/x-python",
   "name": "python",
   "nbconvert_exporter": "python",
   "pygments_lexer": "ipython2",
   "version": "2.7.11"
  }
 },
 "nbformat": 4,
 "nbformat_minor": 0
}
